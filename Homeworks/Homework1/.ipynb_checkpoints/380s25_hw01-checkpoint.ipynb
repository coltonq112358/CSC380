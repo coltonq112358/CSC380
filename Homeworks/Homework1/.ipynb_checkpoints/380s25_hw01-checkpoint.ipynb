{
 "cells": [
  {
   "cell_type": "markdown",
   "id": "505c826a-9de7-471f-816e-dce80086fbd2",
   "metadata": {},
   "source": [
    "# CSC380 Homework 1 Problem 1: Data Science Stories"
   ]
  },
  {
   "cell_type": "markdown",
   "id": "43c63eb2-f2ad-41ef-8203-0003b4a0f9cf",
   "metadata": {},
   "source": [
    "Find two news stories where:\n",
    "1. One shows that using data science contributes positively to the world\n",
    "2. The other shows that using data science without caution resulted in negative consequences."
   ]
  },
  {
   "cell_type": "markdown",
   "id": "f2de1363-b6c3-4dde-85fc-6c06e69c4060",
   "metadata": {},
   "source": [
    "For each story explain:\n",
    "1. What questions were answered/decisions were made using data.\n",
    "2. What data was used."
   ]
  },
  {
   "cell_type": "markdown",
   "id": "661f1d98-276d-4fee-998f-04c4faa1e293",
   "metadata": {},
   "source": [
    "## Story 1: Positive, Using Data to find the source of a Cholera Outbreak"
   ]
  },
  {
   "cell_type": "markdown",
   "id": "849fb9ea-bf66-41f0-9c50-57bd86d85d9e",
   "metadata": {},
   "source": [
    "doi: [10.1016/B978-0-12-804571-8.00017-2](10.1016/B978-0-12-804571-8.00017-2)"
   ]
  },
  {
   "cell_type": "markdown",
   "id": "a7db13c2-c773-4c3b-a6b3-2bd0d378e7ba",
   "metadata": {},
   "source": [
    "This is a classic example of using data science for a beneficial outcome. This is not a recent news story but one I have heard of before and wanted to analyze more closely.\n",
    "\n",
    "John Snow was a researcher investigating a Cholera epidemic in the Soho district of London in 1854. He developed a novel method where he took a map of London and plotted the locations of where the people who had Cholera lived. From there, he determined that the people who lived close to one particular well and drank from that well were getting sick. But people who did not live near the well and thus did not drink from it were not getting sick. This demonstrated that that particular well was the source of the Cholera outbreak. The city removed the pump handle from the well, and the Cholera outbreak ceased.\n",
    "\n",
    "1. What questions were answered/decisions were made using data?\n",
    "\n",
    "    What was the source of the cholera epidemic?\n",
    "\n",
    "    The pump handle was removed because it was believed to have contaminated the water and caused the epidemic\n",
    "\n",
    "3. What data was used?\n",
    "\n",
    "    Data on the spatial location of where the people who were sick lived as well as the location of the wells in London.\n"
   ]
  },
  {
   "cell_type": "markdown",
   "id": "a85cc2a8-135f-42eb-ac30-6445b8deca6b",
   "metadata": {},
   "source": [
    "# Story 2: Negative, Growth in a Time of Debt"
   ]
  },
  {
   "cell_type": "markdown",
   "id": "d5741ac6-e82c-41f2-9b2a-4e2100e73f01",
   "metadata": {},
   "source": [
    "doi: [10.1257/aer.100.2.573](10.1257/aer.100.2.573)"
   ]
  },
  {
   "cell_type": "markdown",
   "id": "7e7be63f-24c2-4827-9a50-70f74c2d3eb5",
   "metadata": {},
   "source": [
    "For a modern example of bad statistics leading to negative outcomes, I found a story about a paper titled \"Growth in a Time of Debt,\" by Reinhart and Rogoff published in 2010. This paper was published in a non peer-reviewed journal called *American Economic Review*. This paper suggested that if a country's external debts exceeded 90% of the country's GDP that would lead to economic collapse. This then lead to country's adopting \"pro-austerity\" policies. Austerity policies are ones which attempt to reduce government budget deficits through a combination of techniques. Because of this move to austerity, policy makers \"left behind\" many groups that the government should have been protecting, such as the unemployed. \n",
    "\n",
    "However this study was founded on bad data and other economists were not able to replicate their results. In fact one study found that the excel sheet that Reinhart and Rogoff used contained multiple coding errors. As well, the data used for the study itself was biased as it ommitted data for Australia and other countries when they had high economic growth and large public debts. Lastly it also appears to be a case of correlation being mixed with causation. Reihart and Rogoff claim that the large public debts lead to slow economic growth, but in reality it could be the opposite, or there is some third variable that links them. \n",
    "\n",
    "1. What questions were answered/decisions were made using data?\n",
    "\n",
    "    Because of this paper many countries adopted pro-austerity policies at many levels of national debt. This paper was influential for the United States budget in 2014, referred to as the \"Paul Ryan Budget.\" It influenced economic decisions made by the EU. A British member of Parliament even said \"As Rogoff and Reinhart demonstrate convincingly, all financial crises ultimately have their origins in one thing.\"\n",
    "\n",
    "2. What data was used?\n",
    "\n",
    "    Reinhart and Rogoff analyzed historic data from multiple countries on the public debts. From this dataset they compared it with historic data on public debt levels, inflation and growth."
   ]
  },
  {
   "cell_type": "markdown",
   "id": "f2f69444",
   "metadata": {
    "id": "f2f69444",
    "tags": []
   },
   "source": [
    "# CSC380 Homework 1 Problem 2: Data Analysis and Visualization\n",
    "\n",
    "\n",
    "**Overview** This homework will familiarize you with the basic steps involved in reading, analyzing, and visualizing data.  We will use the [Starbucks Nutrition Dataset](https://www.kaggle.com/starbucks/starbucks-menu) which itemizes most of the food and drink (12oz) options available at the Starbucks coffee chain.  To simplify things we have processed the data for you into a JSON file distributed with the homework (filename: starbucks.json).  We will be using the Pandas library to load and manipulate data.  I briefly introduced all of the Pandas functionality that will need in class and additional links are provided inline below.\n",
    "\n",
    "The problem has a maximum score of 70 points.\n",
    "\n",
    "**Installing Pandas**\n",
    "To install any python library just type:\n",
    "\n",
    "!pip3 install \"library name\"\n",
    "\n",
    "Or, if you are using Anaconda then type:\n",
    "\n",
    "!conda install \"library name\"\n",
    "\n",
    "The cell below can be used to install Pandas.  Or you can do it on the command line."
   ]
  },
  {
   "cell_type": "code",
   "execution_count": 1,
   "id": "ce35c216",
   "metadata": {
    "id": "ce35c216",
    "scrolled": true
   },
   "outputs": [],
   "source": [
    "# Uncomment and run the line below to install Pandas using pip\n",
    "#!pip3 install pandas\n",
    "\n",
    "# Uncomment and run the line below to install Pandas using Anaconda\n",
    "#!conda install pandas"
   ]
  },
  {
   "cell_type": "code",
   "execution_count": 2,
   "id": "6bd8ee0a",
   "metadata": {
    "id": "6bd8ee0a",
    "scrolled": true
   },
   "outputs": [],
   "source": [
    "import pandas as pd"
   ]
  },
  {
   "cell_type": "markdown",
   "id": "177f5abe",
   "metadata": {
    "id": "177f5abe"
   },
   "source": [
    "## Problem 1 : Basic Operations and Stats from the dataset"
   ]
  },
  {
   "cell_type": "markdown",
   "id": "3cbd9fc4",
   "metadata": {
    "id": "3cbd9fc4"
   },
   "source": [
    "Download the data \"starbucks.json\" and load it to create a Pandas DataFrame.\n",
    "\n",
    "What is a python DataFrame ? - https://www.geeksforgeeks.org/python-pandas-dataframe/\n",
    "\n",
    "Hint : Check out the read_json function - https://www.w3schools.com/python/pandas/pandas_json.asp"
   ]
  },
  {
   "cell_type": "code",
   "execution_count": 3,
   "id": "786721b9",
   "metadata": {
    "id": "786721b9"
   },
   "outputs": [
    {
     "data": {
      "text/html": [
       "<div>\n",
       "<style scoped>\n",
       "    .dataframe tbody tr th:only-of-type {\n",
       "        vertical-align: middle;\n",
       "    }\n",
       "\n",
       "    .dataframe tbody tr th {\n",
       "        vertical-align: top;\n",
       "    }\n",
       "\n",
       "    .dataframe thead th {\n",
       "        text-align: right;\n",
       "    }\n",
       "</style>\n",
       "<table border=\"1\" class=\"dataframe\">\n",
       "  <thead>\n",
       "    <tr style=\"text-align: right;\">\n",
       "      <th></th>\n",
       "      <th>Beverage_category</th>\n",
       "      <th>Beverage</th>\n",
       "      <th>Beverage_prep</th>\n",
       "      <th>Calories</th>\n",
       "      <th>Total Fat (g)</th>\n",
       "      <th>Trans Fat (g)</th>\n",
       "      <th>Saturated Fat (g)</th>\n",
       "      <th>Sodium (mg)</th>\n",
       "      <th>Total Carbohydrates (g)</th>\n",
       "      <th>Cholesterol (mg)</th>\n",
       "      <th>Dietary Fibre (g)</th>\n",
       "      <th>Sugars (g)</th>\n",
       "      <th>Protein (g)</th>\n",
       "      <th>Vitamin A (fDV)</th>\n",
       "      <th>Vitamin C (fDV)</th>\n",
       "      <th>Calcium (fDV)</th>\n",
       "      <th>Iron (fDV)</th>\n",
       "      <th>Caffeine (mg)</th>\n",
       "    </tr>\n",
       "  </thead>\n",
       "  <tbody>\n",
       "    <tr>\n",
       "      <th>0</th>\n",
       "      <td>Coffee</td>\n",
       "      <td>Brewed Coffee</td>\n",
       "      <td>Plain</td>\n",
       "      <td>5</td>\n",
       "      <td>0.1</td>\n",
       "      <td>0.0</td>\n",
       "      <td>0.0</td>\n",
       "      <td>0</td>\n",
       "      <td>10</td>\n",
       "      <td>0</td>\n",
       "      <td>0</td>\n",
       "      <td>0</td>\n",
       "      <td>1.0</td>\n",
       "      <td>0.00</td>\n",
       "      <td>0.00</td>\n",
       "      <td>0.00</td>\n",
       "      <td>0.00</td>\n",
       "      <td>330</td>\n",
       "    </tr>\n",
       "    <tr>\n",
       "      <th>1</th>\n",
       "      <td>Classic Espresso Drinks</td>\n",
       "      <td>Caff̬ Latte</td>\n",
       "      <td>Nonfat Milk</td>\n",
       "      <td>130</td>\n",
       "      <td>0.3</td>\n",
       "      <td>0.2</td>\n",
       "      <td>0.0</td>\n",
       "      <td>5</td>\n",
       "      <td>150</td>\n",
       "      <td>19</td>\n",
       "      <td>0</td>\n",
       "      <td>18</td>\n",
       "      <td>13.0</td>\n",
       "      <td>0.20</td>\n",
       "      <td>0.00</td>\n",
       "      <td>0.40</td>\n",
       "      <td>0.00</td>\n",
       "      <td>150</td>\n",
       "    </tr>\n",
       "    <tr>\n",
       "      <th>2</th>\n",
       "      <td>Classic Espresso Drinks</td>\n",
       "      <td>Caff̬ Latte</td>\n",
       "      <td>2% Milk</td>\n",
       "      <td>190</td>\n",
       "      <td>7.0</td>\n",
       "      <td>3.5</td>\n",
       "      <td>0.2</td>\n",
       "      <td>30</td>\n",
       "      <td>170</td>\n",
       "      <td>19</td>\n",
       "      <td>0</td>\n",
       "      <td>17</td>\n",
       "      <td>12.0</td>\n",
       "      <td>0.20</td>\n",
       "      <td>0.02</td>\n",
       "      <td>0.40</td>\n",
       "      <td>0.00</td>\n",
       "      <td>150</td>\n",
       "    </tr>\n",
       "    <tr>\n",
       "      <th>3</th>\n",
       "      <td>Classic Espresso Drinks</td>\n",
       "      <td>Caff̬ Latte</td>\n",
       "      <td>Soymilk</td>\n",
       "      <td>150</td>\n",
       "      <td>5.0</td>\n",
       "      <td>0.5</td>\n",
       "      <td>0.0</td>\n",
       "      <td>0</td>\n",
       "      <td>130</td>\n",
       "      <td>13</td>\n",
       "      <td>1</td>\n",
       "      <td>8</td>\n",
       "      <td>10.0</td>\n",
       "      <td>0.15</td>\n",
       "      <td>0.00</td>\n",
       "      <td>0.40</td>\n",
       "      <td>0.15</td>\n",
       "      <td>150</td>\n",
       "    </tr>\n",
       "    <tr>\n",
       "      <th>4</th>\n",
       "      <td>Classic Espresso Drinks</td>\n",
       "      <td>Caff̬ Mocha (Without Whipped Cream)</td>\n",
       "      <td>Nonfat Milk</td>\n",
       "      <td>220</td>\n",
       "      <td>2.5</td>\n",
       "      <td>1.5</td>\n",
       "      <td>0.0</td>\n",
       "      <td>5</td>\n",
       "      <td>125</td>\n",
       "      <td>43</td>\n",
       "      <td>2</td>\n",
       "      <td>34</td>\n",
       "      <td>13.0</td>\n",
       "      <td>0.20</td>\n",
       "      <td>0.00</td>\n",
       "      <td>0.35</td>\n",
       "      <td>0.25</td>\n",
       "      <td>175</td>\n",
       "    </tr>\n",
       "    <tr>\n",
       "      <th>...</th>\n",
       "      <td>...</td>\n",
       "      <td>...</td>\n",
       "      <td>...</td>\n",
       "      <td>...</td>\n",
       "      <td>...</td>\n",
       "      <td>...</td>\n",
       "      <td>...</td>\n",
       "      <td>...</td>\n",
       "      <td>...</td>\n",
       "      <td>...</td>\n",
       "      <td>...</td>\n",
       "      <td>...</td>\n",
       "      <td>...</td>\n",
       "      <td>...</td>\n",
       "      <td>...</td>\n",
       "      <td>...</td>\n",
       "      <td>...</td>\n",
       "      <td>...</td>\n",
       "    </tr>\n",
       "    <tr>\n",
       "      <th>68</th>\n",
       "      <td>Frappuccino� Light Blended Coffee</td>\n",
       "      <td>Java Chip</td>\n",
       "      <td>Nonfat Milk</td>\n",
       "      <td>220</td>\n",
       "      <td>4.0</td>\n",
       "      <td>3.0</td>\n",
       "      <td>0.0</td>\n",
       "      <td>0</td>\n",
       "      <td>240</td>\n",
       "      <td>43</td>\n",
       "      <td>2</td>\n",
       "      <td>39</td>\n",
       "      <td>5.0</td>\n",
       "      <td>0.06</td>\n",
       "      <td>0.00</td>\n",
       "      <td>0.10</td>\n",
       "      <td>0.25</td>\n",
       "      <td>105</td>\n",
       "    </tr>\n",
       "    <tr>\n",
       "      <th>69</th>\n",
       "      <td>Frappuccino� Blended Cr̬me</td>\n",
       "      <td>Strawberries &amp; Cr̬me (Without Whipped Cream)</td>\n",
       "      <td>Nonfat Milk</td>\n",
       "      <td>230</td>\n",
       "      <td>0.2</td>\n",
       "      <td>0.1</td>\n",
       "      <td>0.0</td>\n",
       "      <td>0</td>\n",
       "      <td>190</td>\n",
       "      <td>53</td>\n",
       "      <td>0</td>\n",
       "      <td>52</td>\n",
       "      <td>4.0</td>\n",
       "      <td>0.08</td>\n",
       "      <td>0.06</td>\n",
       "      <td>0.15</td>\n",
       "      <td>0.04</td>\n",
       "      <td>0</td>\n",
       "    </tr>\n",
       "    <tr>\n",
       "      <th>70</th>\n",
       "      <td>Frappuccino� Blended Cr̬me</td>\n",
       "      <td>Strawberries &amp; Cr̬me (Without Whipped Cream)</td>\n",
       "      <td>Whole Milk</td>\n",
       "      <td>260</td>\n",
       "      <td>4.0</td>\n",
       "      <td>2.0</td>\n",
       "      <td>0.1</td>\n",
       "      <td>10</td>\n",
       "      <td>190</td>\n",
       "      <td>53</td>\n",
       "      <td>0</td>\n",
       "      <td>52</td>\n",
       "      <td>4.0</td>\n",
       "      <td>0.06</td>\n",
       "      <td>0.06</td>\n",
       "      <td>0.15</td>\n",
       "      <td>0.04</td>\n",
       "      <td>0</td>\n",
       "    </tr>\n",
       "    <tr>\n",
       "      <th>71</th>\n",
       "      <td>Frappuccino� Blended Cr̬me</td>\n",
       "      <td>Strawberries &amp; Cr̬me (Without Whipped Cream)</td>\n",
       "      <td>Soymilk</td>\n",
       "      <td>240</td>\n",
       "      <td>2.0</td>\n",
       "      <td>0.2</td>\n",
       "      <td>0.0</td>\n",
       "      <td>0</td>\n",
       "      <td>180</td>\n",
       "      <td>51</td>\n",
       "      <td>1</td>\n",
       "      <td>49</td>\n",
       "      <td>3.0</td>\n",
       "      <td>0.04</td>\n",
       "      <td>0.06</td>\n",
       "      <td>0.15</td>\n",
       "      <td>0.08</td>\n",
       "      <td>0</td>\n",
       "    </tr>\n",
       "    <tr>\n",
       "      <th>72</th>\n",
       "      <td>Frappuccino� Blended Cr̬me</td>\n",
       "      <td>Vanilla Bean (Without Whipped Cream)</td>\n",
       "      <td>Nonfat Milk</td>\n",
       "      <td>240</td>\n",
       "      <td>0.1</td>\n",
       "      <td>0.1</td>\n",
       "      <td>0.0</td>\n",
       "      <td>5</td>\n",
       "      <td>230</td>\n",
       "      <td>56</td>\n",
       "      <td>0</td>\n",
       "      <td>55</td>\n",
       "      <td>5.0</td>\n",
       "      <td>0.08</td>\n",
       "      <td>0.00</td>\n",
       "      <td>0.15</td>\n",
       "      <td>0.00</td>\n",
       "      <td>0</td>\n",
       "    </tr>\n",
       "  </tbody>\n",
       "</table>\n",
       "<p>73 rows × 18 columns</p>\n",
       "</div>"
      ],
      "text/plain": [
       "                    Beverage_category  \\\n",
       "0                              Coffee   \n",
       "1             Classic Espresso Drinks   \n",
       "2             Classic Espresso Drinks   \n",
       "3             Classic Espresso Drinks   \n",
       "4             Classic Espresso Drinks   \n",
       "..                                ...   \n",
       "68  Frappuccino� Light Blended Coffee   \n",
       "69         Frappuccino� Blended Cr̬me   \n",
       "70         Frappuccino� Blended Cr̬me   \n",
       "71         Frappuccino� Blended Cr̬me   \n",
       "72         Frappuccino� Blended Cr̬me   \n",
       "\n",
       "                                        Beverage Beverage_prep  Calories  \\\n",
       "0                                  Brewed Coffee         Plain         5   \n",
       "1                                    Caff̬ Latte   Nonfat Milk       130   \n",
       "2                                    Caff̬ Latte       2% Milk       190   \n",
       "3                                    Caff̬ Latte       Soymilk       150   \n",
       "4            Caff̬ Mocha (Without Whipped Cream)   Nonfat Milk       220   \n",
       "..                                           ...           ...       ...   \n",
       "68                                     Java Chip   Nonfat Milk       220   \n",
       "69  Strawberries & Cr̬me (Without Whipped Cream)   Nonfat Milk       230   \n",
       "70  Strawberries & Cr̬me (Without Whipped Cream)    Whole Milk       260   \n",
       "71  Strawberries & Cr̬me (Without Whipped Cream)       Soymilk       240   \n",
       "72          Vanilla Bean (Without Whipped Cream)   Nonfat Milk       240   \n",
       "\n",
       "    Total Fat (g)  Trans Fat (g)  Saturated Fat (g)  Sodium (mg)  \\\n",
       "0             0.1            0.0                0.0            0   \n",
       "1             0.3            0.2                0.0            5   \n",
       "2             7.0            3.5                0.2           30   \n",
       "3             5.0            0.5                0.0            0   \n",
       "4             2.5            1.5                0.0            5   \n",
       "..            ...            ...                ...          ...   \n",
       "68            4.0            3.0                0.0            0   \n",
       "69            0.2            0.1                0.0            0   \n",
       "70            4.0            2.0                0.1           10   \n",
       "71            2.0            0.2                0.0            0   \n",
       "72            0.1            0.1                0.0            5   \n",
       "\n",
       "    Total Carbohydrates (g)  Cholesterol (mg)  Dietary Fibre (g)  Sugars (g)  \\\n",
       "0                        10                 0                  0           0   \n",
       "1                       150                19                  0          18   \n",
       "2                       170                19                  0          17   \n",
       "3                       130                13                  1           8   \n",
       "4                       125                43                  2          34   \n",
       "..                      ...               ...                ...         ...   \n",
       "68                      240                43                  2          39   \n",
       "69                      190                53                  0          52   \n",
       "70                      190                53                  0          52   \n",
       "71                      180                51                  1          49   \n",
       "72                      230                56                  0          55   \n",
       "\n",
       "    Protein (g)  Vitamin A (fDV)  Vitamin C (fDV)  Calcium (fDV)  Iron (fDV)  \\\n",
       "0           1.0             0.00             0.00           0.00        0.00   \n",
       "1          13.0             0.20             0.00           0.40        0.00   \n",
       "2          12.0             0.20             0.02           0.40        0.00   \n",
       "3          10.0             0.15             0.00           0.40        0.15   \n",
       "4          13.0             0.20             0.00           0.35        0.25   \n",
       "..          ...              ...              ...            ...         ...   \n",
       "68          5.0             0.06             0.00           0.10        0.25   \n",
       "69          4.0             0.08             0.06           0.15        0.04   \n",
       "70          4.0             0.06             0.06           0.15        0.04   \n",
       "71          3.0             0.04             0.06           0.15        0.08   \n",
       "72          5.0             0.08             0.00           0.15        0.00   \n",
       "\n",
       "    Caffeine (mg)  \n",
       "0             330  \n",
       "1             150  \n",
       "2             150  \n",
       "3             150  \n",
       "4             175  \n",
       "..            ...  \n",
       "68            105  \n",
       "69              0  \n",
       "70              0  \n",
       "71              0  \n",
       "72              0  \n",
       "\n",
       "[73 rows x 18 columns]"
      ]
     },
     "execution_count": 3,
     "metadata": {},
     "output_type": "execute_result"
    }
   ],
   "source": [
    "starbucks_df = pd.read_json(\"starbucks.json\")\n",
    "starbucks_df"
   ]
  },
  {
   "cell_type": "markdown",
   "id": "177f4f23",
   "metadata": {
    "id": "177f4f23"
   },
   "source": [
    "Printing the entire dataframe looks cumbersome. How can we look at the first and last **two** rows of a dataframe?\n",
    "\n",
    "Check out .head() and .tail() - https://www.tutorialspoint.com/python_pandas/python_pandas_basic_functionality.htm\n",
    "\n",
    "What are the first two and last two rows on the dataframe?"
   ]
  },
  {
   "cell_type": "code",
   "execution_count": 4,
   "id": "c92b342c",
   "metadata": {
    "id": "c92b342c",
    "scrolled": true
   },
   "outputs": [
    {
     "data": {
      "text/html": [
       "<div>\n",
       "<style scoped>\n",
       "    .dataframe tbody tr th:only-of-type {\n",
       "        vertical-align: middle;\n",
       "    }\n",
       "\n",
       "    .dataframe tbody tr th {\n",
       "        vertical-align: top;\n",
       "    }\n",
       "\n",
       "    .dataframe thead th {\n",
       "        text-align: right;\n",
       "    }\n",
       "</style>\n",
       "<table border=\"1\" class=\"dataframe\">\n",
       "  <thead>\n",
       "    <tr style=\"text-align: right;\">\n",
       "      <th></th>\n",
       "      <th>Beverage_category</th>\n",
       "      <th>Beverage</th>\n",
       "      <th>Beverage_prep</th>\n",
       "      <th>Calories</th>\n",
       "      <th>Total Fat (g)</th>\n",
       "      <th>Trans Fat (g)</th>\n",
       "      <th>Saturated Fat (g)</th>\n",
       "      <th>Sodium (mg)</th>\n",
       "      <th>Total Carbohydrates (g)</th>\n",
       "      <th>Cholesterol (mg)</th>\n",
       "      <th>Dietary Fibre (g)</th>\n",
       "      <th>Sugars (g)</th>\n",
       "      <th>Protein (g)</th>\n",
       "      <th>Vitamin A (fDV)</th>\n",
       "      <th>Vitamin C (fDV)</th>\n",
       "      <th>Calcium (fDV)</th>\n",
       "      <th>Iron (fDV)</th>\n",
       "      <th>Caffeine (mg)</th>\n",
       "    </tr>\n",
       "  </thead>\n",
       "  <tbody>\n",
       "    <tr>\n",
       "      <th>0</th>\n",
       "      <td>Coffee</td>\n",
       "      <td>Brewed Coffee</td>\n",
       "      <td>Plain</td>\n",
       "      <td>5</td>\n",
       "      <td>0.1</td>\n",
       "      <td>0.0</td>\n",
       "      <td>0.0</td>\n",
       "      <td>0</td>\n",
       "      <td>10</td>\n",
       "      <td>0</td>\n",
       "      <td>0</td>\n",
       "      <td>0</td>\n",
       "      <td>1.0</td>\n",
       "      <td>0.0</td>\n",
       "      <td>0.0</td>\n",
       "      <td>0.0</td>\n",
       "      <td>0.0</td>\n",
       "      <td>330</td>\n",
       "    </tr>\n",
       "    <tr>\n",
       "      <th>1</th>\n",
       "      <td>Classic Espresso Drinks</td>\n",
       "      <td>Caff̬ Latte</td>\n",
       "      <td>Nonfat Milk</td>\n",
       "      <td>130</td>\n",
       "      <td>0.3</td>\n",
       "      <td>0.2</td>\n",
       "      <td>0.0</td>\n",
       "      <td>5</td>\n",
       "      <td>150</td>\n",
       "      <td>19</td>\n",
       "      <td>0</td>\n",
       "      <td>18</td>\n",
       "      <td>13.0</td>\n",
       "      <td>0.2</td>\n",
       "      <td>0.0</td>\n",
       "      <td>0.4</td>\n",
       "      <td>0.0</td>\n",
       "      <td>150</td>\n",
       "    </tr>\n",
       "  </tbody>\n",
       "</table>\n",
       "</div>"
      ],
      "text/plain": [
       "         Beverage_category       Beverage Beverage_prep  Calories  \\\n",
       "0                   Coffee  Brewed Coffee         Plain         5   \n",
       "1  Classic Espresso Drinks    Caff̬ Latte   Nonfat Milk       130   \n",
       "\n",
       "   Total Fat (g)  Trans Fat (g)  Saturated Fat (g)  Sodium (mg)  \\\n",
       "0            0.1            0.0                0.0            0   \n",
       "1            0.3            0.2                0.0            5   \n",
       "\n",
       "   Total Carbohydrates (g)  Cholesterol (mg)  Dietary Fibre (g)  Sugars (g)  \\\n",
       "0                       10                 0                  0           0   \n",
       "1                      150                19                  0          18   \n",
       "\n",
       "   Protein (g)  Vitamin A (fDV)  Vitamin C (fDV)  Calcium (fDV)  Iron (fDV)  \\\n",
       "0          1.0              0.0              0.0            0.0         0.0   \n",
       "1         13.0              0.2              0.0            0.4         0.0   \n",
       "\n",
       "   Caffeine (mg)  \n",
       "0            330  \n",
       "1            150  "
      ]
     },
     "execution_count": 4,
     "metadata": {},
     "output_type": "execute_result"
    }
   ],
   "source": [
    "starbucks_df.head(2)"
   ]
  },
  {
   "cell_type": "code",
   "execution_count": 5,
   "id": "e35b0c6e-9442-41ea-bcf5-d8fa4d317e89",
   "metadata": {},
   "outputs": [
    {
     "data": {
      "text/html": [
       "<div>\n",
       "<style scoped>\n",
       "    .dataframe tbody tr th:only-of-type {\n",
       "        vertical-align: middle;\n",
       "    }\n",
       "\n",
       "    .dataframe tbody tr th {\n",
       "        vertical-align: top;\n",
       "    }\n",
       "\n",
       "    .dataframe thead th {\n",
       "        text-align: right;\n",
       "    }\n",
       "</style>\n",
       "<table border=\"1\" class=\"dataframe\">\n",
       "  <thead>\n",
       "    <tr style=\"text-align: right;\">\n",
       "      <th></th>\n",
       "      <th>Beverage_category</th>\n",
       "      <th>Beverage</th>\n",
       "      <th>Beverage_prep</th>\n",
       "      <th>Calories</th>\n",
       "      <th>Total Fat (g)</th>\n",
       "      <th>Trans Fat (g)</th>\n",
       "      <th>Saturated Fat (g)</th>\n",
       "      <th>Sodium (mg)</th>\n",
       "      <th>Total Carbohydrates (g)</th>\n",
       "      <th>Cholesterol (mg)</th>\n",
       "      <th>Dietary Fibre (g)</th>\n",
       "      <th>Sugars (g)</th>\n",
       "      <th>Protein (g)</th>\n",
       "      <th>Vitamin A (fDV)</th>\n",
       "      <th>Vitamin C (fDV)</th>\n",
       "      <th>Calcium (fDV)</th>\n",
       "      <th>Iron (fDV)</th>\n",
       "      <th>Caffeine (mg)</th>\n",
       "    </tr>\n",
       "  </thead>\n",
       "  <tbody>\n",
       "    <tr>\n",
       "      <th>71</th>\n",
       "      <td>Frappuccino� Blended Cr̬me</td>\n",
       "      <td>Strawberries &amp; Cr̬me (Without Whipped Cream)</td>\n",
       "      <td>Soymilk</td>\n",
       "      <td>240</td>\n",
       "      <td>2.0</td>\n",
       "      <td>0.2</td>\n",
       "      <td>0.0</td>\n",
       "      <td>0</td>\n",
       "      <td>180</td>\n",
       "      <td>51</td>\n",
       "      <td>1</td>\n",
       "      <td>49</td>\n",
       "      <td>3.0</td>\n",
       "      <td>0.04</td>\n",
       "      <td>0.06</td>\n",
       "      <td>0.15</td>\n",
       "      <td>0.08</td>\n",
       "      <td>0</td>\n",
       "    </tr>\n",
       "    <tr>\n",
       "      <th>72</th>\n",
       "      <td>Frappuccino� Blended Cr̬me</td>\n",
       "      <td>Vanilla Bean (Without Whipped Cream)</td>\n",
       "      <td>Nonfat Milk</td>\n",
       "      <td>240</td>\n",
       "      <td>0.1</td>\n",
       "      <td>0.1</td>\n",
       "      <td>0.0</td>\n",
       "      <td>5</td>\n",
       "      <td>230</td>\n",
       "      <td>56</td>\n",
       "      <td>0</td>\n",
       "      <td>55</td>\n",
       "      <td>5.0</td>\n",
       "      <td>0.08</td>\n",
       "      <td>0.00</td>\n",
       "      <td>0.15</td>\n",
       "      <td>0.00</td>\n",
       "      <td>0</td>\n",
       "    </tr>\n",
       "  </tbody>\n",
       "</table>\n",
       "</div>"
      ],
      "text/plain": [
       "             Beverage_category                                      Beverage  \\\n",
       "71  Frappuccino� Blended Cr̬me  Strawberries & Cr̬me (Without Whipped Cream)   \n",
       "72  Frappuccino� Blended Cr̬me          Vanilla Bean (Without Whipped Cream)   \n",
       "\n",
       "   Beverage_prep  Calories  Total Fat (g)  Trans Fat (g)  Saturated Fat (g)  \\\n",
       "71       Soymilk       240            2.0            0.2                0.0   \n",
       "72   Nonfat Milk       240            0.1            0.1                0.0   \n",
       "\n",
       "    Sodium (mg)  Total Carbohydrates (g)  Cholesterol (mg)  Dietary Fibre (g)  \\\n",
       "71            0                      180                51                  1   \n",
       "72            5                      230                56                  0   \n",
       "\n",
       "    Sugars (g)  Protein (g)  Vitamin A (fDV)  Vitamin C (fDV)  Calcium (fDV)  \\\n",
       "71          49          3.0             0.04             0.06           0.15   \n",
       "72          55          5.0             0.08             0.00           0.15   \n",
       "\n",
       "    Iron (fDV)  Caffeine (mg)  \n",
       "71        0.08              0  \n",
       "72        0.00              0  "
      ]
     },
     "execution_count": 5,
     "metadata": {},
     "output_type": "execute_result"
    }
   ],
   "source": [
    "starbucks_df.tail(2)"
   ]
  },
  {
   "cell_type": "markdown",
   "id": "1328f4d9",
   "metadata": {
    "id": "1328f4d9"
   },
   "source": [
    "How can we access just a column of a dataset in pandas? https://cmdlinetips.com/2020/04/3-ways-to-select-one-or-more-columns-with-pandas/.\n",
    "\n",
    "It is okay if while printing you only see first and last few element and dots in between; this is Python's way of summarizing the output.\n",
    "\n",
    "Print the column 'Beverage_prep'"
   ]
  },
  {
   "cell_type": "code",
   "execution_count": 6,
   "id": "1da3405d",
   "metadata": {
    "id": "1da3405d",
    "scrolled": true
   },
   "outputs": [
    {
     "data": {
      "text/plain": [
       "0           Plain\n",
       "1     Nonfat Milk\n",
       "2         2% Milk\n",
       "3         Soymilk\n",
       "4     Nonfat Milk\n",
       "         ...     \n",
       "68    Nonfat Milk\n",
       "69    Nonfat Milk\n",
       "70     Whole Milk\n",
       "71        Soymilk\n",
       "72    Nonfat Milk\n",
       "Name: Beverage_prep, Length: 73, dtype: object"
      ]
     },
     "execution_count": 6,
     "metadata": {},
     "output_type": "execute_result"
    }
   ],
   "source": [
    "starbucks_df[\"Beverage_prep\"]"
   ]
  },
  {
   "cell_type": "markdown",
   "id": "c9fe934a",
   "metadata": {
    "id": "c9fe934a"
   },
   "source": [
    "One goal of data science is to use data in order to answer questions.  This is done in an automated way, without us having to manually go through the data.  Let's try answering some simple questions about Starbucks' menu items."
   ]
  },
  {
   "cell_type": "markdown",
   "id": "40642a57",
   "metadata": {
    "id": "40642a57"
   },
   "source": [
    "### a. On an average, how much caffeine does a starbucks drink have?"
   ]
  },
  {
   "cell_type": "markdown",
   "id": "bf65f524",
   "metadata": {
    "id": "bf65f524"
   },
   "source": [
    "Hint: Checkout the math functions of a pandas dataframe.\n",
    "\n",
    "https://erikrood.com/Python_References/pandas_column_average_median_final.html"
   ]
  },
  {
   "cell_type": "code",
   "execution_count": 7,
   "id": "7867820d",
   "metadata": {
    "id": "7867820d",
    "scrolled": true
   },
   "outputs": [
    {
     "name": "stdout",
     "output_type": "stream",
     "text": [
      "95.75342465753425\n"
     ]
    }
   ],
   "source": [
    "print(starbucks_df[\"Caffeine (mg)\"].mean())"
   ]
  },
  {
   "cell_type": "markdown",
   "id": "88a2c1d4",
   "metadata": {
    "id": "88a2c1d4"
   },
   "source": [
    "### b. What is the *typical* (median) amount of caffeine in a starbucks drink?"
   ]
  },
  {
   "cell_type": "code",
   "execution_count": 8,
   "id": "5b6b5f91",
   "metadata": {
    "id": "5b6b5f91"
   },
   "outputs": [
    {
     "name": "stdout",
     "output_type": "stream",
     "text": [
      "100.0\n"
     ]
    }
   ],
   "source": [
    "print(starbucks_df[\"Caffeine (mg)\"].median())"
   ]
  },
  {
   "cell_type": "markdown",
   "id": "6578590b",
   "metadata": {
    "id": "6578590b"
   },
   "source": [
    "### c. What is the maximum amount of caffeine you can find at starbucks in its drinks?"
   ]
  },
  {
   "cell_type": "code",
   "execution_count": 9,
   "id": "b3628978",
   "metadata": {
    "id": "b3628978",
    "scrolled": true
   },
   "outputs": [
    {
     "name": "stdout",
     "output_type": "stream",
     "text": [
      "330\n"
     ]
    }
   ],
   "source": [
    "print(starbucks_df[\"Caffeine (mg)\"].max())"
   ]
  },
  {
   "cell_type": "markdown",
   "id": "f7df6db8",
   "metadata": {
    "id": "f7df6db8"
   },
   "source": [
    "### d. What is the least amount of caffeine you can find at starbucks in its drinks?"
   ]
  },
  {
   "cell_type": "code",
   "execution_count": 10,
   "id": "4aa496ee",
   "metadata": {
    "id": "4aa496ee",
    "scrolled": true
   },
   "outputs": [
    {
     "name": "stdout",
     "output_type": "stream",
     "text": [
      "0\n"
     ]
    }
   ],
   "source": [
    "print(starbucks_df[\"Caffeine (mg)\"].min())"
   ]
  },
  {
   "cell_type": "markdown",
   "id": "5518de70",
   "metadata": {
    "id": "5518de70"
   },
   "source": [
    "## Problem 2 : Pie Chart"
   ]
  },
  {
   "cell_type": "markdown",
   "id": "5f64660a",
   "metadata": {
    "id": "5f64660a"
   },
   "source": [
    "Let's explore the dataset we have a bit more further"
   ]
  },
  {
   "cell_type": "markdown",
   "id": "87be94ff",
   "metadata": {
    "id": "87be94ff"
   },
   "source": [
    "### a. What are the different type of Drinks (ie Beverage Category )that Starbucks has? How much of each?"
   ]
  },
  {
   "cell_type": "markdown",
   "id": "9ba8f689",
   "metadata": {
    "id": "9ba8f689"
   },
   "source": [
    "Hint - Checkout pandas value_counts() function."
   ]
  },
  {
   "cell_type": "code",
   "execution_count": 11,
   "id": "6e3b9585",
   "metadata": {
    "id": "6e3b9585",
    "scrolled": true
   },
   "outputs": [
    {
     "data": {
      "text/plain": [
       "Beverage_category\n",
       "Classic Espresso Drinks              14\n",
       "Tazo� Tea Drinks                     13\n",
       "Frappuccino� Blended Coffee          12\n",
       "Signature Espresso Drinks            10\n",
       "Smoothies                             9\n",
       "Shaken Iced Beverages                 6\n",
       "Frappuccino� Light Blended Coffee     4\n",
       "Frappuccino� Blended Cr̬me            4\n",
       "Coffee                                1\n",
       "Name: count, dtype: int64"
      ]
     },
     "execution_count": 11,
     "metadata": {},
     "output_type": "execute_result"
    }
   ],
   "source": [
    "#print the different beverage category and how much of each here\n",
    "\n",
    "starbucks_df[\"Beverage_category\"].value_counts()"
   ]
  },
  {
   "cell_type": "markdown",
   "id": "d73cd9e6",
   "metadata": {
    "id": "d73cd9e6"
   },
   "source": [
    "Let's make these more appealing. Plot these as a pie chart"
   ]
  },
  {
   "cell_type": "code",
   "execution_count": 12,
   "id": "d8980a2c",
   "metadata": {
    "id": "d8980a2c",
    "scrolled": true
   },
   "outputs": [
    {
     "data": {
      "image/png": "[encoded data removed]",
      "text/plain": [
       "<Figure size 640x480 with 1 Axes>"
      ]
     },
     "metadata": {},
     "output_type": "display_data"
    }
   ],
   "source": [
    "import matplotlib.pyplot as plt\n",
    "\n",
    "beverage_category_counts = starbucks_df[\"Beverage_category\"].value_counts()\n",
    "labels = beverage_category_counts.keys()\n",
    "sizes = beverage_category_counts\n",
    "\n",
    "fig, ax = plt.subplots()\n",
    "ax.pie(sizes, labels=labels, autopct= lambda x: '{:.0f}'.format(x*sizes.sum()/100))\n",
    "\n",
    "plt.show()"
   ]
  },
  {
   "cell_type": "markdown",
   "id": "835aface",
   "metadata": {
    "id": "835aface"
   },
   "source": [
    "## Problem 3 : Bar Chart"
   ]
  },
  {
   "cell_type": "markdown",
   "id": "1e9e98cb",
   "metadata": {
    "id": "1e9e98cb"
   },
   "source": [
    "Suppose you have a very calorie conscious friend. But they really like to get the drinks at Starbucks. As a budding Data Scientist, you want to help them out."
   ]
  },
  {
   "cell_type": "markdown",
   "id": "fdc27585",
   "metadata": {
    "id": "fdc27585"
   },
   "source": [
    "### a. What is the drink with the least amount of calories at Starbucks?"
   ]
  },
  {
   "cell_type": "markdown",
   "id": "19d6da87",
   "metadata": {
    "id": "19d6da87"
   },
   "source": [
    "Hint : Check this out ==> https://www.interviewqs.com/ddi-code-snippets/rows-cols-python"
   ]
  },
  {
   "cell_type": "code",
   "execution_count": 13,
   "id": "f4c88119",
   "metadata": {
    "id": "f4c88119",
    "scrolled": true
   },
   "outputs": [
    {
     "data": {
      "text/plain": [
       "25    Tazo� Tea\n",
       "Name: Beverage, dtype: object"
      ]
     },
     "execution_count": 13,
     "metadata": {},
     "output_type": "execute_result"
    }
   ],
   "source": [
    "#you can print the entire row or just the name\n",
    "\n",
    "starbucks_df[\"Beverage\"][starbucks_df[\"Calories\"] == starbucks_df[\"Calories\"].min()]"
   ]
  },
  {
   "cell_type": "markdown",
   "id": "722f9b51",
   "metadata": {
    "id": "722f9b51"
   },
   "source": [
    "But they are quickly bored of this drink. I mean, it's only natural.\n",
    "\n",
    "So, let's recommend them a beverage category instead."
   ]
  },
  {
   "cell_type": "markdown",
   "id": "533e3e16",
   "metadata": {
    "id": "533e3e16"
   },
   "source": [
    "First let's find on an average how much calories do each beverage category have?\n",
    "\n",
    "Hint - Checkout groupby function. The first example in this page is what we are trying to do. https://pandas.pydata.org/docs/reference/api/pandas.DataFrame.groupby.html"
   ]
  },
  {
   "cell_type": "code",
   "execution_count": 14,
   "id": "8b7a6bf0",
   "metadata": {
    "id": "8b7a6bf0"
   },
   "outputs": [
    {
     "data": {
      "text/html": [
       "<div>\n",
       "<style scoped>\n",
       "    .dataframe tbody tr th:only-of-type {\n",
       "        vertical-align: middle;\n",
       "    }\n",
       "\n",
       "    .dataframe tbody tr th {\n",
       "        vertical-align: top;\n",
       "    }\n",
       "\n",
       "    .dataframe thead th {\n",
       "        text-align: right;\n",
       "    }\n",
       "</style>\n",
       "<table border=\"1\" class=\"dataframe\">\n",
       "  <thead>\n",
       "    <tr style=\"text-align: right;\">\n",
       "      <th></th>\n",
       "      <th>Calories</th>\n",
       "    </tr>\n",
       "    <tr>\n",
       "      <th>Beverage_category</th>\n",
       "      <th></th>\n",
       "    </tr>\n",
       "  </thead>\n",
       "  <tbody>\n",
       "    <tr>\n",
       "      <th>Classic Espresso Drinks</th>\n",
       "      <td>162.500000</td>\n",
       "    </tr>\n",
       "    <tr>\n",
       "      <th>Coffee</th>\n",
       "      <td>5.000000</td>\n",
       "    </tr>\n",
       "    <tr>\n",
       "      <th>Frappuccino� Blended Coffee</th>\n",
       "      <td>272.500000</td>\n",
       "    </tr>\n",
       "    <tr>\n",
       "      <th>Frappuccino� Blended Cr̬me</th>\n",
       "      <td>242.500000</td>\n",
       "    </tr>\n",
       "    <tr>\n",
       "      <th>Frappuccino� Light Blended Coffee</th>\n",
       "      <td>160.000000</td>\n",
       "    </tr>\n",
       "    <tr>\n",
       "      <th>Shaken Iced Beverages</th>\n",
       "      <td>106.666667</td>\n",
       "    </tr>\n",
       "    <tr>\n",
       "      <th>Signature Espresso Drinks</th>\n",
       "      <td>281.000000</td>\n",
       "    </tr>\n",
       "    <tr>\n",
       "      <th>Smoothies</th>\n",
       "      <td>282.222222</td>\n",
       "    </tr>\n",
       "    <tr>\n",
       "      <th>Tazo� Tea Drinks</th>\n",
       "      <td>203.076923</td>\n",
       "    </tr>\n",
       "  </tbody>\n",
       "</table>\n",
       "</div>"
      ],
      "text/plain": [
       "                                     Calories\n",
       "Beverage_category                            \n",
       "Classic Espresso Drinks            162.500000\n",
       "Coffee                               5.000000\n",
       "Frappuccino� Blended Coffee        272.500000\n",
       "Frappuccino� Blended Cr̬me         242.500000\n",
       "Frappuccino� Light Blended Coffee  160.000000\n",
       "Shaken Iced Beverages              106.666667\n",
       "Signature Espresso Drinks          281.000000\n",
       "Smoothies                          282.222222\n",
       "Tazo� Tea Drinks                   203.076923"
      ]
     },
     "execution_count": 14,
     "metadata": {},
     "output_type": "execute_result"
    }
   ],
   "source": [
    "starbucks_df[[\"Beverage_category\", \"Calories\"]].groupby(\"Beverage_category\").mean()"
   ]
  },
  {
   "cell_type": "markdown",
   "id": "5b5cb33c",
   "metadata": {
    "id": "5b5cb33c"
   },
   "source": [
    "###  b.  Plot a bar Graph"
   ]
  },
  {
   "cell_type": "markdown",
   "id": "869f40d3",
   "metadata": {
    "id": "869f40d3"
   },
   "source": [
    "Let's make this visually appealing by plotting a bar graph, where the height of the bar plot is average amount of calories.\n",
    "\n",
    "Hint : Check this out -> https://benalexkeen.com/bar-charts-in-matplotlib/"
   ]
  },
  {
   "cell_type": "code",
   "execution_count": 15,
   "id": "124ae5c8",
   "metadata": {
    "id": "124ae5c8",
    "scrolled": true
   },
   "outputs": [
    {
     "data": {
      "image/png": "[encoded data removed]",
      "text/plain": [
       "<Figure size 1000x425 with 1 Axes>"
      ]
     },
     "metadata": {},
     "output_type": "display_data"
    }
   ],
   "source": [
    "data = starbucks_df[[\"Beverage_category\", \"Calories\"]].groupby(\"Beverage_category\").mean()\n",
    "categories = data.index.tolist()\n",
    "means = data[\"Calories\"]\n",
    "\n",
    "fig, ax = plt.subplots(figsize=(10, 4.25))\n",
    "ax.bar(categories, means)\n",
    "ax.set_xlabel(\"Beverage Category\")\n",
    "ax.set_ylabel(\"Mean Calories\")\n",
    "ax.set_title(\"Mean Calories of the Beverage Categories\")\n",
    "plt.xticks(rotation=45, ha=\"right\")\n",
    "plt.show()"
   ]
  },
  {
   "cell_type": "markdown",
   "id": "5cca2e73",
   "metadata": {
    "id": "5cca2e73"
   },
   "source": [
    "### By looking at the graph, which beverage category has the least average calories?"
   ]
  },
  {
   "cell_type": "code",
   "execution_count": 16,
   "id": "c8f7a425",
   "metadata": {
    "id": "c8f7a425"
   },
   "outputs": [
    {
     "name": "stdout",
     "output_type": "stream",
     "text": [
      "Coffee\n"
     ]
    }
   ],
   "source": [
    "print('Coffee')"
   ]
  },
  {
   "cell_type": "markdown",
   "id": "5cd3cd98",
   "metadata": {
    "id": "5cd3cd98"
   },
   "source": [
    "Let's keep looking\n",
    "\n",
    "### By looking at the graph, which beverage category has the second least average calories?"
   ]
  },
  {
   "cell_type": "code",
   "execution_count": 17,
   "id": "771ea7cd",
   "metadata": {
    "id": "771ea7cd",
    "scrolled": true
   },
   "outputs": [
    {
     "name": "stdout",
     "output_type": "stream",
     "text": [
      "Shaken Iced Beverages\n"
     ]
    }
   ],
   "source": [
    "print('Shaken Iced Beverages')"
   ]
  },
  {
   "cell_type": "markdown",
   "id": "9e9d6fbe",
   "metadata": {
    "id": "9e9d6fbe"
   },
   "source": [
    "This gives us some idea of how many calories to expect in each beverage category. But we know from our previous classes that taking just the mean is not a good representation of how the values are spread. In this case, while the average is useful, we need to know how it is spread across various drinks within a beverage category.\n",
    "\n",
    "### What is the standard deviation of calories within each beverage categories?\n",
    "\n",
    "Standard deviation is a concept we haven't yet covered in class (as of 1/22). But its idea is simple: similar to the range of the data we saw, it measures the \"spread\" of the data.\n",
    "\n",
    "Hint: try replacing the aggregate function after groupby() from mean() to std()."
   ]
  },
  {
   "cell_type": "code",
   "execution_count": 18,
   "id": "65508776",
   "metadata": {
    "id": "65508776",
    "scrolled": true
   },
   "outputs": [
    {
     "data": {
      "text/html": [
       "<div>\n",
       "<style scoped>\n",
       "    .dataframe tbody tr th:only-of-type {\n",
       "        vertical-align: middle;\n",
       "    }\n",
       "\n",
       "    .dataframe tbody tr th {\n",
       "        vertical-align: top;\n",
       "    }\n",
       "\n",
       "    .dataframe thead th {\n",
       "        text-align: right;\n",
       "    }\n",
       "</style>\n",
       "<table border=\"1\" class=\"dataframe\">\n",
       "  <thead>\n",
       "    <tr style=\"text-align: right;\">\n",
       "      <th></th>\n",
       "      <th>Calories</th>\n",
       "    </tr>\n",
       "    <tr>\n",
       "      <th>Beverage_category</th>\n",
       "      <th></th>\n",
       "    </tr>\n",
       "  </thead>\n",
       "  <tbody>\n",
       "    <tr>\n",
       "      <th>Classic Espresso Drinks</th>\n",
       "      <td>71.649521</td>\n",
       "    </tr>\n",
       "    <tr>\n",
       "      <th>Coffee</th>\n",
       "      <td>NaN</td>\n",
       "    </tr>\n",
       "    <tr>\n",
       "      <th>Frappuccino� Blended Coffee</th>\n",
       "      <td>36.711405</td>\n",
       "    </tr>\n",
       "    <tr>\n",
       "      <th>Frappuccino� Blended Cr̬me</th>\n",
       "      <td>12.583057</td>\n",
       "    </tr>\n",
       "    <tr>\n",
       "      <th>Frappuccino� Light Blended Coffee</th>\n",
       "      <td>42.426407</td>\n",
       "    </tr>\n",
       "    <tr>\n",
       "      <th>Shaken Iced Beverages</th>\n",
       "      <td>18.618987</td>\n",
       "    </tr>\n",
       "    <tr>\n",
       "      <th>Signature Espresso Drinks</th>\n",
       "      <td>71.561939</td>\n",
       "    </tr>\n",
       "    <tr>\n",
       "      <th>Smoothies</th>\n",
       "      <td>13.017083</td>\n",
       "    </tr>\n",
       "    <tr>\n",
       "      <th>Tazo� Tea Drinks</th>\n",
       "      <td>87.405627</td>\n",
       "    </tr>\n",
       "  </tbody>\n",
       "</table>\n",
       "</div>"
      ],
      "text/plain": [
       "                                    Calories\n",
       "Beverage_category                           \n",
       "Classic Espresso Drinks            71.649521\n",
       "Coffee                                   NaN\n",
       "Frappuccino� Blended Coffee        36.711405\n",
       "Frappuccino� Blended Cr̬me         12.583057\n",
       "Frappuccino� Light Blended Coffee  42.426407\n",
       "Shaken Iced Beverages              18.618987\n",
       "Signature Espresso Drinks          71.561939\n",
       "Smoothies                          13.017083\n",
       "Tazo� Tea Drinks                   87.405627"
      ]
     },
     "execution_count": 18,
     "metadata": {},
     "output_type": "execute_result"
    }
   ],
   "source": [
    "starbucks_df[[\"Beverage_category\", \"Calories\"]].groupby(\"Beverage_category\").std()"
   ]
  },
  {
   "cell_type": "markdown",
   "id": "af67aa0f",
   "metadata": {
    "id": "af67aa0f"
   },
   "source": [
    "If you get a nan for Coffee in the above cell, just add .fillna(0) at the end. To read more about fillna(0) - https://pandas.pydata.org/pandas-docs/stable/reference/api/pandas.DataFrame.fillna.html\n",
    "\n",
    "Else skip the below cell"
   ]
  },
  {
   "cell_type": "code",
   "execution_count": 19,
   "id": "636739b8",
   "metadata": {
    "id": "636739b8",
    "scrolled": true
   },
   "outputs": [
    {
     "data": {
      "text/html": [
       "<div>\n",
       "<style scoped>\n",
       "    .dataframe tbody tr th:only-of-type {\n",
       "        vertical-align: middle;\n",
       "    }\n",
       "\n",
       "    .dataframe tbody tr th {\n",
       "        vertical-align: top;\n",
       "    }\n",
       "\n",
       "    .dataframe thead th {\n",
       "        text-align: right;\n",
       "    }\n",
       "</style>\n",
       "<table border=\"1\" class=\"dataframe\">\n",
       "  <thead>\n",
       "    <tr style=\"text-align: right;\">\n",
       "      <th></th>\n",
       "      <th>Calories</th>\n",
       "    </tr>\n",
       "    <tr>\n",
       "      <th>Beverage_category</th>\n",
       "      <th></th>\n",
       "    </tr>\n",
       "  </thead>\n",
       "  <tbody>\n",
       "    <tr>\n",
       "      <th>Classic Espresso Drinks</th>\n",
       "      <td>71.649521</td>\n",
       "    </tr>\n",
       "    <tr>\n",
       "      <th>Coffee</th>\n",
       "      <td>0.000000</td>\n",
       "    </tr>\n",
       "    <tr>\n",
       "      <th>Frappuccino� Blended Coffee</th>\n",
       "      <td>36.711405</td>\n",
       "    </tr>\n",
       "    <tr>\n",
       "      <th>Frappuccino� Blended Cr̬me</th>\n",
       "      <td>12.583057</td>\n",
       "    </tr>\n",
       "    <tr>\n",
       "      <th>Frappuccino� Light Blended Coffee</th>\n",
       "      <td>42.426407</td>\n",
       "    </tr>\n",
       "    <tr>\n",
       "      <th>Shaken Iced Beverages</th>\n",
       "      <td>18.618987</td>\n",
       "    </tr>\n",
       "    <tr>\n",
       "      <th>Signature Espresso Drinks</th>\n",
       "      <td>71.561939</td>\n",
       "    </tr>\n",
       "    <tr>\n",
       "      <th>Smoothies</th>\n",
       "      <td>13.017083</td>\n",
       "    </tr>\n",
       "    <tr>\n",
       "      <th>Tazo� Tea Drinks</th>\n",
       "      <td>87.405627</td>\n",
       "    </tr>\n",
       "  </tbody>\n",
       "</table>\n",
       "</div>"
      ],
      "text/plain": [
       "                                    Calories\n",
       "Beverage_category                           \n",
       "Classic Espresso Drinks            71.649521\n",
       "Coffee                              0.000000\n",
       "Frappuccino� Blended Coffee        36.711405\n",
       "Frappuccino� Blended Cr̬me         12.583057\n",
       "Frappuccino� Light Blended Coffee  42.426407\n",
       "Shaken Iced Beverages              18.618987\n",
       "Signature Espresso Drinks          71.561939\n",
       "Smoothies                          13.017083\n",
       "Tazo� Tea Drinks                   87.405627"
      ]
     },
     "execution_count": 19,
     "metadata": {},
     "output_type": "execute_result"
    }
   ],
   "source": [
    "starbucks_df[[\"Beverage_category\", \"Calories\"]].groupby(\"Beverage_category\").std().fillna(0)"
   ]
  },
  {
   "cell_type": "markdown",
   "id": "cb739088",
   "metadata": {
    "id": "cb739088"
   },
   "source": [
    "Now Let's incorporate this info into the bar chart as well. We want a bar chart where there is 1 bar for each beverage category, the height is average calories, and error bars representing +/- sample standard deviation. Hint: go back to https://benalexkeen.com/bar-charts-in-matplotlib/"
   ]
  },
  {
   "cell_type": "code",
   "execution_count": 20,
   "id": "eb8dd771",
   "metadata": {
    "id": "eb8dd771",
    "scrolled": true
   },
   "outputs": [
    {
     "data": {
      "image/png": "[encoded data removed]",
      "text/plain": [
       "<Figure size 1000x425 with 1 Axes>"
      ]
     },
     "metadata": {},
     "output_type": "display_data"
    }
   ],
   "source": [
    "data = starbucks_df[[\"Beverage_category\", \"Calories\"]].groupby(\"Beverage_category\").mean()\n",
    "categories = starbucks_df[\"Beverage_category\"].unique()\n",
    "means = data[\"Calories\"]\n",
    "std = starbucks_df[[\"Beverage_category\", \"Calories\"]].groupby(\"Beverage_category\").std().fillna(0)[\"Calories\"]\n",
    "\n",
    "fig, ax = plt.subplots(figsize=(10, 4.25))\n",
    "ax.bar(categories, means, yerr = std, capsize=10)\n",
    "ax.set_xlabel(\"Beverage Category\")\n",
    "ax.set_ylabel(\"Mean Calories\")\n",
    "ax.set_title(\"Mean Calories of the Beverage Categories\")\n",
    "plt.xticks(rotation=45, ha=\"right\")\n",
    "plt.show()\n",
    "plt.show()"
   ]
  },
  {
   "cell_type": "markdown",
   "id": "36f0d0f8",
   "metadata": {
    "id": "36f0d0f8"
   },
   "source": [
    "Look how easy it is to understand that many numbers when visualised well!\n",
    "\n",
    "Awesome work so far!!"
   ]
  },
  {
   "cell_type": "markdown",
   "id": "cbe67eb1",
   "metadata": {
    "id": "cbe67eb1"
   },
   "source": [
    "## Problem 4 : Scatter plot"
   ]
  },
  {
   "cell_type": "markdown",
   "id": "13f784c2",
   "metadata": {
    "id": "13f784c2"
   },
   "source": [
    "Now another friend of yours, who absolutely loves Caffeine came to you for a recommendation.They want to know what are the top drinks with the most Caffeine in Starbucks. They would like to know how much sugar each of them may have too, since they would like to reduce that.They don't like numbers much,so we want to present this to them in a attractive way. Let's start by sorting the DataFrame based on Caffeine\n",
    "\n",
    "Hint: https://pandas.pydata.org/docs/reference/api/pandas.DataFrame.sort_values.html"
   ]
  },
  {
   "cell_type": "code",
   "execution_count": 21,
   "id": "94cf325b",
   "metadata": {
    "id": "94cf325b"
   },
   "outputs": [
    {
     "data": {
      "text/html": [
       "<div>\n",
       "<style scoped>\n",
       "    .dataframe tbody tr th:only-of-type {\n",
       "        vertical-align: middle;\n",
       "    }\n",
       "\n",
       "    .dataframe tbody tr th {\n",
       "        vertical-align: top;\n",
       "    }\n",
       "\n",
       "    .dataframe thead th {\n",
       "        text-align: right;\n",
       "    }\n",
       "</style>\n",
       "<table border=\"1\" class=\"dataframe\">\n",
       "  <thead>\n",
       "    <tr style=\"text-align: right;\">\n",
       "      <th></th>\n",
       "      <th>Beverage_category</th>\n",
       "      <th>Beverage</th>\n",
       "      <th>Beverage_prep</th>\n",
       "      <th>Calories</th>\n",
       "      <th>Total Fat (g)</th>\n",
       "      <th>Trans Fat (g)</th>\n",
       "      <th>Saturated Fat (g)</th>\n",
       "      <th>Sodium (mg)</th>\n",
       "      <th>Total Carbohydrates (g)</th>\n",
       "      <th>Cholesterol (mg)</th>\n",
       "      <th>Dietary Fibre (g)</th>\n",
       "      <th>Sugars (g)</th>\n",
       "      <th>Protein (g)</th>\n",
       "      <th>Vitamin A (fDV)</th>\n",
       "      <th>Vitamin C (fDV)</th>\n",
       "      <th>Calcium (fDV)</th>\n",
       "      <th>Iron (fDV)</th>\n",
       "      <th>Caffeine (mg)</th>\n",
       "    </tr>\n",
       "  </thead>\n",
       "  <tbody>\n",
       "    <tr>\n",
       "      <th>0</th>\n",
       "      <td>Coffee</td>\n",
       "      <td>Brewed Coffee</td>\n",
       "      <td>Plain</td>\n",
       "      <td>5</td>\n",
       "      <td>0.1</td>\n",
       "      <td>0.0</td>\n",
       "      <td>0.0</td>\n",
       "      <td>0</td>\n",
       "      <td>10</td>\n",
       "      <td>0</td>\n",
       "      <td>0</td>\n",
       "      <td>0</td>\n",
       "      <td>1.0</td>\n",
       "      <td>0.00</td>\n",
       "      <td>0.00</td>\n",
       "      <td>0.00</td>\n",
       "      <td>0.00</td>\n",
       "      <td>330</td>\n",
       "    </tr>\n",
       "    <tr>\n",
       "      <th>10</th>\n",
       "      <td>Classic Espresso Drinks</td>\n",
       "      <td>Caff̬ Americano</td>\n",
       "      <td>Plain</td>\n",
       "      <td>15</td>\n",
       "      <td>0.0</td>\n",
       "      <td>0.0</td>\n",
       "      <td>0.0</td>\n",
       "      <td>0</td>\n",
       "      <td>15</td>\n",
       "      <td>3</td>\n",
       "      <td>0</td>\n",
       "      <td>0</td>\n",
       "      <td>1.0</td>\n",
       "      <td>0.00</td>\n",
       "      <td>0.00</td>\n",
       "      <td>0.02</td>\n",
       "      <td>0.00</td>\n",
       "      <td>225</td>\n",
       "    </tr>\n",
       "    <tr>\n",
       "      <th>4</th>\n",
       "      <td>Classic Espresso Drinks</td>\n",
       "      <td>Caff̬ Mocha (Without Whipped Cream)</td>\n",
       "      <td>Nonfat Milk</td>\n",
       "      <td>220</td>\n",
       "      <td>2.5</td>\n",
       "      <td>1.5</td>\n",
       "      <td>0.0</td>\n",
       "      <td>5</td>\n",
       "      <td>125</td>\n",
       "      <td>43</td>\n",
       "      <td>2</td>\n",
       "      <td>34</td>\n",
       "      <td>13.0</td>\n",
       "      <td>0.20</td>\n",
       "      <td>0.00</td>\n",
       "      <td>0.35</td>\n",
       "      <td>0.25</td>\n",
       "      <td>175</td>\n",
       "    </tr>\n",
       "    <tr>\n",
       "      <th>6</th>\n",
       "      <td>Classic Espresso Drinks</td>\n",
       "      <td>Caff̬ Mocha (Without Whipped Cream)</td>\n",
       "      <td>Soymilk</td>\n",
       "      <td>230</td>\n",
       "      <td>7.0</td>\n",
       "      <td>2.0</td>\n",
       "      <td>0.0</td>\n",
       "      <td>0</td>\n",
       "      <td>105</td>\n",
       "      <td>37</td>\n",
       "      <td>3</td>\n",
       "      <td>26</td>\n",
       "      <td>11.0</td>\n",
       "      <td>0.10</td>\n",
       "      <td>0.00</td>\n",
       "      <td>0.35</td>\n",
       "      <td>0.40</td>\n",
       "      <td>175</td>\n",
       "    </tr>\n",
       "    <tr>\n",
       "      <th>5</th>\n",
       "      <td>Classic Espresso Drinks</td>\n",
       "      <td>Caff̬ Mocha (Without Whipped Cream)</td>\n",
       "      <td>2% Milk</td>\n",
       "      <td>260</td>\n",
       "      <td>8.0</td>\n",
       "      <td>4.5</td>\n",
       "      <td>0.2</td>\n",
       "      <td>25</td>\n",
       "      <td>140</td>\n",
       "      <td>42</td>\n",
       "      <td>2</td>\n",
       "      <td>34</td>\n",
       "      <td>13.0</td>\n",
       "      <td>0.15</td>\n",
       "      <td>0.02</td>\n",
       "      <td>0.35</td>\n",
       "      <td>0.25</td>\n",
       "      <td>175</td>\n",
       "    </tr>\n",
       "    <tr>\n",
       "      <th>...</th>\n",
       "      <td>...</td>\n",
       "      <td>...</td>\n",
       "      <td>...</td>\n",
       "      <td>...</td>\n",
       "      <td>...</td>\n",
       "      <td>...</td>\n",
       "      <td>...</td>\n",
       "      <td>...</td>\n",
       "      <td>...</td>\n",
       "      <td>...</td>\n",
       "      <td>...</td>\n",
       "      <td>...</td>\n",
       "      <td>...</td>\n",
       "      <td>...</td>\n",
       "      <td>...</td>\n",
       "      <td>...</td>\n",
       "      <td>...</td>\n",
       "      <td>...</td>\n",
       "    </tr>\n",
       "    <tr>\n",
       "      <th>52</th>\n",
       "      <td>Smoothies</td>\n",
       "      <td>Strawberry Banana Smoothie</td>\n",
       "      <td>Soymilk</td>\n",
       "      <td>290</td>\n",
       "      <td>2.0</td>\n",
       "      <td>0.4</td>\n",
       "      <td>0.0</td>\n",
       "      <td>5</td>\n",
       "      <td>120</td>\n",
       "      <td>58</td>\n",
       "      <td>8</td>\n",
       "      <td>40</td>\n",
       "      <td>16.0</td>\n",
       "      <td>0.02</td>\n",
       "      <td>1.00</td>\n",
       "      <td>0.10</td>\n",
       "      <td>0.08</td>\n",
       "      <td>0</td>\n",
       "    </tr>\n",
       "    <tr>\n",
       "      <th>69</th>\n",
       "      <td>Frappuccino� Blended Cr̬me</td>\n",
       "      <td>Strawberries &amp; Cr̬me (Without Whipped Cream)</td>\n",
       "      <td>Nonfat Milk</td>\n",
       "      <td>230</td>\n",
       "      <td>0.2</td>\n",
       "      <td>0.1</td>\n",
       "      <td>0.0</td>\n",
       "      <td>0</td>\n",
       "      <td>190</td>\n",
       "      <td>53</td>\n",
       "      <td>0</td>\n",
       "      <td>52</td>\n",
       "      <td>4.0</td>\n",
       "      <td>0.08</td>\n",
       "      <td>0.06</td>\n",
       "      <td>0.15</td>\n",
       "      <td>0.04</td>\n",
       "      <td>0</td>\n",
       "    </tr>\n",
       "    <tr>\n",
       "      <th>70</th>\n",
       "      <td>Frappuccino� Blended Cr̬me</td>\n",
       "      <td>Strawberries &amp; Cr̬me (Without Whipped Cream)</td>\n",
       "      <td>Whole Milk</td>\n",
       "      <td>260</td>\n",
       "      <td>4.0</td>\n",
       "      <td>2.0</td>\n",
       "      <td>0.1</td>\n",
       "      <td>10</td>\n",
       "      <td>190</td>\n",
       "      <td>53</td>\n",
       "      <td>0</td>\n",
       "      <td>52</td>\n",
       "      <td>4.0</td>\n",
       "      <td>0.06</td>\n",
       "      <td>0.06</td>\n",
       "      <td>0.15</td>\n",
       "      <td>0.04</td>\n",
       "      <td>0</td>\n",
       "    </tr>\n",
       "    <tr>\n",
       "      <th>71</th>\n",
       "      <td>Frappuccino� Blended Cr̬me</td>\n",
       "      <td>Strawberries &amp; Cr̬me (Without Whipped Cream)</td>\n",
       "      <td>Soymilk</td>\n",
       "      <td>240</td>\n",
       "      <td>2.0</td>\n",
       "      <td>0.2</td>\n",
       "      <td>0.0</td>\n",
       "      <td>0</td>\n",
       "      <td>180</td>\n",
       "      <td>51</td>\n",
       "      <td>1</td>\n",
       "      <td>49</td>\n",
       "      <td>3.0</td>\n",
       "      <td>0.04</td>\n",
       "      <td>0.06</td>\n",
       "      <td>0.15</td>\n",
       "      <td>0.08</td>\n",
       "      <td>0</td>\n",
       "    </tr>\n",
       "    <tr>\n",
       "      <th>72</th>\n",
       "      <td>Frappuccino� Blended Cr̬me</td>\n",
       "      <td>Vanilla Bean (Without Whipped Cream)</td>\n",
       "      <td>Nonfat Milk</td>\n",
       "      <td>240</td>\n",
       "      <td>0.1</td>\n",
       "      <td>0.1</td>\n",
       "      <td>0.0</td>\n",
       "      <td>5</td>\n",
       "      <td>230</td>\n",
       "      <td>56</td>\n",
       "      <td>0</td>\n",
       "      <td>55</td>\n",
       "      <td>5.0</td>\n",
       "      <td>0.08</td>\n",
       "      <td>0.00</td>\n",
       "      <td>0.15</td>\n",
       "      <td>0.00</td>\n",
       "      <td>0</td>\n",
       "    </tr>\n",
       "  </tbody>\n",
       "</table>\n",
       "<p>73 rows × 18 columns</p>\n",
       "</div>"
      ],
      "text/plain": [
       "             Beverage_category                                      Beverage  \\\n",
       "0                       Coffee                                 Brewed Coffee   \n",
       "10     Classic Espresso Drinks                               Caff̬ Americano   \n",
       "4      Classic Espresso Drinks           Caff̬ Mocha (Without Whipped Cream)   \n",
       "6      Classic Espresso Drinks           Caff̬ Mocha (Without Whipped Cream)   \n",
       "5      Classic Espresso Drinks           Caff̬ Mocha (Without Whipped Cream)   \n",
       "..                         ...                                           ...   \n",
       "52                   Smoothies                    Strawberry Banana Smoothie   \n",
       "69  Frappuccino� Blended Cr̬me  Strawberries & Cr̬me (Without Whipped Cream)   \n",
       "70  Frappuccino� Blended Cr̬me  Strawberries & Cr̬me (Without Whipped Cream)   \n",
       "71  Frappuccino� Blended Cr̬me  Strawberries & Cr̬me (Without Whipped Cream)   \n",
       "72  Frappuccino� Blended Cr̬me          Vanilla Bean (Without Whipped Cream)   \n",
       "\n",
       "   Beverage_prep  Calories  Total Fat (g)  Trans Fat (g)  Saturated Fat (g)  \\\n",
       "0          Plain         5            0.1            0.0                0.0   \n",
       "10         Plain        15            0.0            0.0                0.0   \n",
       "4    Nonfat Milk       220            2.5            1.5                0.0   \n",
       "6        Soymilk       230            7.0            2.0                0.0   \n",
       "5        2% Milk       260            8.0            4.5                0.2   \n",
       "..           ...       ...            ...            ...                ...   \n",
       "52       Soymilk       290            2.0            0.4                0.0   \n",
       "69   Nonfat Milk       230            0.2            0.1                0.0   \n",
       "70    Whole Milk       260            4.0            2.0                0.1   \n",
       "71       Soymilk       240            2.0            0.2                0.0   \n",
       "72   Nonfat Milk       240            0.1            0.1                0.0   \n",
       "\n",
       "    Sodium (mg)  Total Carbohydrates (g)  Cholesterol (mg)  Dietary Fibre (g)  \\\n",
       "0             0                       10                 0                  0   \n",
       "10            0                       15                 3                  0   \n",
       "4             5                      125                43                  2   \n",
       "6             0                      105                37                  3   \n",
       "5            25                      140                42                  2   \n",
       "..          ...                      ...               ...                ...   \n",
       "52            5                      120                58                  8   \n",
       "69            0                      190                53                  0   \n",
       "70           10                      190                53                  0   \n",
       "71            0                      180                51                  1   \n",
       "72            5                      230                56                  0   \n",
       "\n",
       "    Sugars (g)  Protein (g)  Vitamin A (fDV)  Vitamin C (fDV)  Calcium (fDV)  \\\n",
       "0            0          1.0             0.00             0.00           0.00   \n",
       "10           0          1.0             0.00             0.00           0.02   \n",
       "4           34         13.0             0.20             0.00           0.35   \n",
       "6           26         11.0             0.10             0.00           0.35   \n",
       "5           34         13.0             0.15             0.02           0.35   \n",
       "..         ...          ...              ...              ...            ...   \n",
       "52          40         16.0             0.02             1.00           0.10   \n",
       "69          52          4.0             0.08             0.06           0.15   \n",
       "70          52          4.0             0.06             0.06           0.15   \n",
       "71          49          3.0             0.04             0.06           0.15   \n",
       "72          55          5.0             0.08             0.00           0.15   \n",
       "\n",
       "    Iron (fDV)  Caffeine (mg)  \n",
       "0         0.00            330  \n",
       "10        0.00            225  \n",
       "4         0.25            175  \n",
       "6         0.40            175  \n",
       "5         0.25            175  \n",
       "..         ...            ...  \n",
       "52        0.08              0  \n",
       "69        0.04              0  \n",
       "70        0.04              0  \n",
       "71        0.08              0  \n",
       "72        0.00              0  \n",
       "\n",
       "[73 rows x 18 columns]"
      ]
     },
     "execution_count": 21,
     "metadata": {},
     "output_type": "execute_result"
    }
   ],
   "source": [
    "starbucks_df.sort_values(\"Caffeine (mg)\", ascending=False)"
   ]
  },
  {
   "cell_type": "markdown",
   "id": "e6fc7572",
   "metadata": {
    "id": "e6fc7572"
   },
   "source": [
    "What are the top 10 **drinks** with the most caffeine in them?\n",
    "\n",
    "Hint : Remember.head() from earlier. Use that."
   ]
  },
  {
   "cell_type": "code",
   "execution_count": 22,
   "id": "85cde918",
   "metadata": {
    "id": "85cde918"
   },
   "outputs": [
    {
     "data": {
      "text/html": [
       "<div>\n",
       "<style scoped>\n",
       "    .dataframe tbody tr th:only-of-type {\n",
       "        vertical-align: middle;\n",
       "    }\n",
       "\n",
       "    .dataframe tbody tr th {\n",
       "        vertical-align: top;\n",
       "    }\n",
       "\n",
       "    .dataframe thead th {\n",
       "        text-align: right;\n",
       "    }\n",
       "</style>\n",
       "<table border=\"1\" class=\"dataframe\">\n",
       "  <thead>\n",
       "    <tr style=\"text-align: right;\">\n",
       "      <th></th>\n",
       "      <th>Beverage_category</th>\n",
       "      <th>Beverage</th>\n",
       "      <th>Beverage_prep</th>\n",
       "      <th>Calories</th>\n",
       "      <th>Total Fat (g)</th>\n",
       "      <th>Trans Fat (g)</th>\n",
       "      <th>Saturated Fat (g)</th>\n",
       "      <th>Sodium (mg)</th>\n",
       "      <th>Total Carbohydrates (g)</th>\n",
       "      <th>Cholesterol (mg)</th>\n",
       "      <th>Dietary Fibre (g)</th>\n",
       "      <th>Sugars (g)</th>\n",
       "      <th>Protein (g)</th>\n",
       "      <th>Vitamin A (fDV)</th>\n",
       "      <th>Vitamin C (fDV)</th>\n",
       "      <th>Calcium (fDV)</th>\n",
       "      <th>Iron (fDV)</th>\n",
       "      <th>Caffeine (mg)</th>\n",
       "    </tr>\n",
       "  </thead>\n",
       "  <tbody>\n",
       "    <tr>\n",
       "      <th>0</th>\n",
       "      <td>Coffee</td>\n",
       "      <td>Brewed Coffee</td>\n",
       "      <td>Plain</td>\n",
       "      <td>5</td>\n",
       "      <td>0.1</td>\n",
       "      <td>0.0</td>\n",
       "      <td>0.0</td>\n",
       "      <td>0</td>\n",
       "      <td>10</td>\n",
       "      <td>0</td>\n",
       "      <td>0</td>\n",
       "      <td>0</td>\n",
       "      <td>1.0</td>\n",
       "      <td>0.00</td>\n",
       "      <td>0.00</td>\n",
       "      <td>0.00</td>\n",
       "      <td>0.00</td>\n",
       "      <td>330</td>\n",
       "    </tr>\n",
       "    <tr>\n",
       "      <th>10</th>\n",
       "      <td>Classic Espresso Drinks</td>\n",
       "      <td>Caff̬ Americano</td>\n",
       "      <td>Plain</td>\n",
       "      <td>15</td>\n",
       "      <td>0.0</td>\n",
       "      <td>0.0</td>\n",
       "      <td>0.0</td>\n",
       "      <td>0</td>\n",
       "      <td>15</td>\n",
       "      <td>3</td>\n",
       "      <td>0</td>\n",
       "      <td>0</td>\n",
       "      <td>1.0</td>\n",
       "      <td>0.00</td>\n",
       "      <td>0.00</td>\n",
       "      <td>0.02</td>\n",
       "      <td>0.00</td>\n",
       "      <td>225</td>\n",
       "    </tr>\n",
       "    <tr>\n",
       "      <th>4</th>\n",
       "      <td>Classic Espresso Drinks</td>\n",
       "      <td>Caff̬ Mocha (Without Whipped Cream)</td>\n",
       "      <td>Nonfat Milk</td>\n",
       "      <td>220</td>\n",
       "      <td>2.5</td>\n",
       "      <td>1.5</td>\n",
       "      <td>0.0</td>\n",
       "      <td>5</td>\n",
       "      <td>125</td>\n",
       "      <td>43</td>\n",
       "      <td>2</td>\n",
       "      <td>34</td>\n",
       "      <td>13.0</td>\n",
       "      <td>0.20</td>\n",
       "      <td>0.00</td>\n",
       "      <td>0.35</td>\n",
       "      <td>0.25</td>\n",
       "      <td>175</td>\n",
       "    </tr>\n",
       "    <tr>\n",
       "      <th>6</th>\n",
       "      <td>Classic Espresso Drinks</td>\n",
       "      <td>Caff̬ Mocha (Without Whipped Cream)</td>\n",
       "      <td>Soymilk</td>\n",
       "      <td>230</td>\n",
       "      <td>7.0</td>\n",
       "      <td>2.0</td>\n",
       "      <td>0.0</td>\n",
       "      <td>0</td>\n",
       "      <td>105</td>\n",
       "      <td>37</td>\n",
       "      <td>3</td>\n",
       "      <td>26</td>\n",
       "      <td>11.0</td>\n",
       "      <td>0.10</td>\n",
       "      <td>0.00</td>\n",
       "      <td>0.35</td>\n",
       "      <td>0.40</td>\n",
       "      <td>175</td>\n",
       "    </tr>\n",
       "    <tr>\n",
       "      <th>5</th>\n",
       "      <td>Classic Espresso Drinks</td>\n",
       "      <td>Caff̬ Mocha (Without Whipped Cream)</td>\n",
       "      <td>2% Milk</td>\n",
       "      <td>260</td>\n",
       "      <td>8.0</td>\n",
       "      <td>4.5</td>\n",
       "      <td>0.2</td>\n",
       "      <td>25</td>\n",
       "      <td>140</td>\n",
       "      <td>42</td>\n",
       "      <td>2</td>\n",
       "      <td>34</td>\n",
       "      <td>13.0</td>\n",
       "      <td>0.15</td>\n",
       "      <td>0.02</td>\n",
       "      <td>0.35</td>\n",
       "      <td>0.25</td>\n",
       "      <td>175</td>\n",
       "    </tr>\n",
       "    <tr>\n",
       "      <th>38</th>\n",
       "      <td>Shaken Iced Beverages</td>\n",
       "      <td>Iced Brewed Coffee (With Classic Syrup)</td>\n",
       "      <td>Plain</td>\n",
       "      <td>90</td>\n",
       "      <td>0.1</td>\n",
       "      <td>0.0</td>\n",
       "      <td>0.0</td>\n",
       "      <td>0</td>\n",
       "      <td>5</td>\n",
       "      <td>21</td>\n",
       "      <td>0</td>\n",
       "      <td>21</td>\n",
       "      <td>0.3</td>\n",
       "      <td>0.00</td>\n",
       "      <td>0.00</td>\n",
       "      <td>0.00</td>\n",
       "      <td>0.00</td>\n",
       "      <td>165</td>\n",
       "    </tr>\n",
       "    <tr>\n",
       "      <th>2</th>\n",
       "      <td>Classic Espresso Drinks</td>\n",
       "      <td>Caff̬ Latte</td>\n",
       "      <td>2% Milk</td>\n",
       "      <td>190</td>\n",
       "      <td>7.0</td>\n",
       "      <td>3.5</td>\n",
       "      <td>0.2</td>\n",
       "      <td>30</td>\n",
       "      <td>170</td>\n",
       "      <td>19</td>\n",
       "      <td>0</td>\n",
       "      <td>17</td>\n",
       "      <td>12.0</td>\n",
       "      <td>0.20</td>\n",
       "      <td>0.02</td>\n",
       "      <td>0.40</td>\n",
       "      <td>0.00</td>\n",
       "      <td>150</td>\n",
       "    </tr>\n",
       "    <tr>\n",
       "      <th>3</th>\n",
       "      <td>Classic Espresso Drinks</td>\n",
       "      <td>Caff̬ Latte</td>\n",
       "      <td>Soymilk</td>\n",
       "      <td>150</td>\n",
       "      <td>5.0</td>\n",
       "      <td>0.5</td>\n",
       "      <td>0.0</td>\n",
       "      <td>0</td>\n",
       "      <td>130</td>\n",
       "      <td>13</td>\n",
       "      <td>1</td>\n",
       "      <td>8</td>\n",
       "      <td>10.0</td>\n",
       "      <td>0.15</td>\n",
       "      <td>0.00</td>\n",
       "      <td>0.40</td>\n",
       "      <td>0.15</td>\n",
       "      <td>150</td>\n",
       "    </tr>\n",
       "    <tr>\n",
       "      <th>1</th>\n",
       "      <td>Classic Espresso Drinks</td>\n",
       "      <td>Caff̬ Latte</td>\n",
       "      <td>Nonfat Milk</td>\n",
       "      <td>130</td>\n",
       "      <td>0.3</td>\n",
       "      <td>0.2</td>\n",
       "      <td>0.0</td>\n",
       "      <td>5</td>\n",
       "      <td>150</td>\n",
       "      <td>19</td>\n",
       "      <td>0</td>\n",
       "      <td>18</td>\n",
       "      <td>13.0</td>\n",
       "      <td>0.20</td>\n",
       "      <td>0.00</td>\n",
       "      <td>0.40</td>\n",
       "      <td>0.00</td>\n",
       "      <td>150</td>\n",
       "    </tr>\n",
       "    <tr>\n",
       "      <th>8</th>\n",
       "      <td>Classic Espresso Drinks</td>\n",
       "      <td>Vanilla Latte (Or Other Flavoured Latte)</td>\n",
       "      <td>2% Milk</td>\n",
       "      <td>250</td>\n",
       "      <td>6.0</td>\n",
       "      <td>3.5</td>\n",
       "      <td>0.2</td>\n",
       "      <td>25</td>\n",
       "      <td>150</td>\n",
       "      <td>37</td>\n",
       "      <td>0</td>\n",
       "      <td>35</td>\n",
       "      <td>12.0</td>\n",
       "      <td>0.20</td>\n",
       "      <td>0.02</td>\n",
       "      <td>0.35</td>\n",
       "      <td>0.00</td>\n",
       "      <td>150</td>\n",
       "    </tr>\n",
       "  </tbody>\n",
       "</table>\n",
       "</div>"
      ],
      "text/plain": [
       "          Beverage_category                                  Beverage  \\\n",
       "0                    Coffee                             Brewed Coffee   \n",
       "10  Classic Espresso Drinks                           Caff̬ Americano   \n",
       "4   Classic Espresso Drinks       Caff̬ Mocha (Without Whipped Cream)   \n",
       "6   Classic Espresso Drinks       Caff̬ Mocha (Without Whipped Cream)   \n",
       "5   Classic Espresso Drinks       Caff̬ Mocha (Without Whipped Cream)   \n",
       "38    Shaken Iced Beverages   Iced Brewed Coffee (With Classic Syrup)   \n",
       "2   Classic Espresso Drinks                               Caff̬ Latte   \n",
       "3   Classic Espresso Drinks                               Caff̬ Latte   \n",
       "1   Classic Espresso Drinks                               Caff̬ Latte   \n",
       "8   Classic Espresso Drinks  Vanilla Latte (Or Other Flavoured Latte)   \n",
       "\n",
       "   Beverage_prep  Calories  Total Fat (g)  Trans Fat (g)  Saturated Fat (g)  \\\n",
       "0          Plain         5            0.1            0.0                0.0   \n",
       "10         Plain        15            0.0            0.0                0.0   \n",
       "4    Nonfat Milk       220            2.5            1.5                0.0   \n",
       "6        Soymilk       230            7.0            2.0                0.0   \n",
       "5        2% Milk       260            8.0            4.5                0.2   \n",
       "38         Plain        90            0.1            0.0                0.0   \n",
       "2        2% Milk       190            7.0            3.5                0.2   \n",
       "3        Soymilk       150            5.0            0.5                0.0   \n",
       "1    Nonfat Milk       130            0.3            0.2                0.0   \n",
       "8        2% Milk       250            6.0            3.5                0.2   \n",
       "\n",
       "    Sodium (mg)  Total Carbohydrates (g)  Cholesterol (mg)  Dietary Fibre (g)  \\\n",
       "0             0                       10                 0                  0   \n",
       "10            0                       15                 3                  0   \n",
       "4             5                      125                43                  2   \n",
       "6             0                      105                37                  3   \n",
       "5            25                      140                42                  2   \n",
       "38            0                        5                21                  0   \n",
       "2            30                      170                19                  0   \n",
       "3             0                      130                13                  1   \n",
       "1             5                      150                19                  0   \n",
       "8            25                      150                37                  0   \n",
       "\n",
       "    Sugars (g)  Protein (g)  Vitamin A (fDV)  Vitamin C (fDV)  Calcium (fDV)  \\\n",
       "0            0          1.0             0.00             0.00           0.00   \n",
       "10           0          1.0             0.00             0.00           0.02   \n",
       "4           34         13.0             0.20             0.00           0.35   \n",
       "6           26         11.0             0.10             0.00           0.35   \n",
       "5           34         13.0             0.15             0.02           0.35   \n",
       "38          21          0.3             0.00             0.00           0.00   \n",
       "2           17         12.0             0.20             0.02           0.40   \n",
       "3            8         10.0             0.15             0.00           0.40   \n",
       "1           18         13.0             0.20             0.00           0.40   \n",
       "8           35         12.0             0.20             0.02           0.35   \n",
       "\n",
       "    Iron (fDV)  Caffeine (mg)  \n",
       "0         0.00            330  \n",
       "10        0.00            225  \n",
       "4         0.25            175  \n",
       "6         0.40            175  \n",
       "5         0.25            175  \n",
       "38        0.00            165  \n",
       "2         0.00            150  \n",
       "3         0.15            150  \n",
       "1         0.00            150  \n",
       "8         0.00            150  "
      ]
     },
     "execution_count": 22,
     "metadata": {},
     "output_type": "execute_result"
    }
   ],
   "source": [
    "top10_Caf_Drink = starbucks_df.sort_values(\"Caffeine (mg)\", ascending=False).head(10)\n",
    "top10_Caf_Drink"
   ]
  },
  {
   "cell_type": "markdown",
   "id": "a535cfb2",
   "metadata": {
    "id": "a535cfb2"
   },
   "source": [
    "We don't really care about the other nutritions at this point. Let's just print what is needed."
   ]
  },
  {
   "cell_type": "code",
   "execution_count": 23,
   "id": "082e15ae",
   "metadata": {
    "id": "082e15ae",
    "scrolled": true
   },
   "outputs": [
    {
     "data": {
      "text/html": [
       "<div>\n",
       "<style scoped>\n",
       "    .dataframe tbody tr th:only-of-type {\n",
       "        vertical-align: middle;\n",
       "    }\n",
       "\n",
       "    .dataframe tbody tr th {\n",
       "        vertical-align: top;\n",
       "    }\n",
       "\n",
       "    .dataframe thead th {\n",
       "        text-align: right;\n",
       "    }\n",
       "</style>\n",
       "<table border=\"1\" class=\"dataframe\">\n",
       "  <thead>\n",
       "    <tr style=\"text-align: right;\">\n",
       "      <th></th>\n",
       "      <th>Beverage</th>\n",
       "      <th>Sugars (g)</th>\n",
       "      <th>Caffeine (mg)</th>\n",
       "    </tr>\n",
       "  </thead>\n",
       "  <tbody>\n",
       "    <tr>\n",
       "      <th>0</th>\n",
       "      <td>Brewed Coffee</td>\n",
       "      <td>0</td>\n",
       "      <td>330</td>\n",
       "    </tr>\n",
       "    <tr>\n",
       "      <th>10</th>\n",
       "      <td>Caff̬ Americano</td>\n",
       "      <td>0</td>\n",
       "      <td>225</td>\n",
       "    </tr>\n",
       "    <tr>\n",
       "      <th>4</th>\n",
       "      <td>Caff̬ Mocha (Without Whipped Cream)</td>\n",
       "      <td>34</td>\n",
       "      <td>175</td>\n",
       "    </tr>\n",
       "    <tr>\n",
       "      <th>6</th>\n",
       "      <td>Caff̬ Mocha (Without Whipped Cream)</td>\n",
       "      <td>26</td>\n",
       "      <td>175</td>\n",
       "    </tr>\n",
       "    <tr>\n",
       "      <th>5</th>\n",
       "      <td>Caff̬ Mocha (Without Whipped Cream)</td>\n",
       "      <td>34</td>\n",
       "      <td>175</td>\n",
       "    </tr>\n",
       "    <tr>\n",
       "      <th>38</th>\n",
       "      <td>Iced Brewed Coffee (With Classic Syrup)</td>\n",
       "      <td>21</td>\n",
       "      <td>165</td>\n",
       "    </tr>\n",
       "    <tr>\n",
       "      <th>2</th>\n",
       "      <td>Caff̬ Latte</td>\n",
       "      <td>17</td>\n",
       "      <td>150</td>\n",
       "    </tr>\n",
       "    <tr>\n",
       "      <th>3</th>\n",
       "      <td>Caff̬ Latte</td>\n",
       "      <td>8</td>\n",
       "      <td>150</td>\n",
       "    </tr>\n",
       "    <tr>\n",
       "      <th>1</th>\n",
       "      <td>Caff̬ Latte</td>\n",
       "      <td>18</td>\n",
       "      <td>150</td>\n",
       "    </tr>\n",
       "    <tr>\n",
       "      <th>8</th>\n",
       "      <td>Vanilla Latte (Or Other Flavoured Latte)</td>\n",
       "      <td>35</td>\n",
       "      <td>150</td>\n",
       "    </tr>\n",
       "  </tbody>\n",
       "</table>\n",
       "</div>"
      ],
      "text/plain": [
       "                                    Beverage  Sugars (g)  Caffeine (mg)\n",
       "0                              Brewed Coffee           0            330\n",
       "10                           Caff̬ Americano           0            225\n",
       "4        Caff̬ Mocha (Without Whipped Cream)          34            175\n",
       "6        Caff̬ Mocha (Without Whipped Cream)          26            175\n",
       "5        Caff̬ Mocha (Without Whipped Cream)          34            175\n",
       "38   Iced Brewed Coffee (With Classic Syrup)          21            165\n",
       "2                                Caff̬ Latte          17            150\n",
       "3                                Caff̬ Latte           8            150\n",
       "1                                Caff̬ Latte          18            150\n",
       "8   Vanilla Latte (Or Other Flavoured Latte)          35            150"
      ]
     },
     "execution_count": 23,
     "metadata": {},
     "output_type": "execute_result"
    }
   ],
   "source": [
    "top10_Caf_Drink[['Beverage','Sugars (g)','Caffeine (mg)']]"
   ]
  },
  {
   "cell_type": "markdown",
   "id": "b4a6f681",
   "metadata": {
    "id": "b4a6f681"
   },
   "source": [
    "Oops, why does the same drink keep repeating but with different calories and caffeine? Give yourself a minute before reading the next line for the answer.\n",
    "\n",
    "Yes, they are prepared differently. Let's add that too, since it is relevent information"
   ]
  },
  {
   "cell_type": "code",
   "execution_count": 24,
   "id": "87958d5f",
   "metadata": {
    "id": "87958d5f",
    "scrolled": true
   },
   "outputs": [
    {
     "data": {
      "text/html": [
       "<div>\n",
       "<style scoped>\n",
       "    .dataframe tbody tr th:only-of-type {\n",
       "        vertical-align: middle;\n",
       "    }\n",
       "\n",
       "    .dataframe tbody tr th {\n",
       "        vertical-align: top;\n",
       "    }\n",
       "\n",
       "    .dataframe thead th {\n",
       "        text-align: right;\n",
       "    }\n",
       "</style>\n",
       "<table border=\"1\" class=\"dataframe\">\n",
       "  <thead>\n",
       "    <tr style=\"text-align: right;\">\n",
       "      <th></th>\n",
       "      <th>Beverage</th>\n",
       "      <th>Beverage_prep</th>\n",
       "      <th>Sugars (g)</th>\n",
       "      <th>Caffeine (mg)</th>\n",
       "    </tr>\n",
       "  </thead>\n",
       "  <tbody>\n",
       "    <tr>\n",
       "      <th>0</th>\n",
       "      <td>Brewed Coffee</td>\n",
       "      <td>Plain</td>\n",
       "      <td>0</td>\n",
       "      <td>330</td>\n",
       "    </tr>\n",
       "    <tr>\n",
       "      <th>10</th>\n",
       "      <td>Caff̬ Americano</td>\n",
       "      <td>Plain</td>\n",
       "      <td>0</td>\n",
       "      <td>225</td>\n",
       "    </tr>\n",
       "    <tr>\n",
       "      <th>4</th>\n",
       "      <td>Caff̬ Mocha (Without Whipped Cream)</td>\n",
       "      <td>Nonfat Milk</td>\n",
       "      <td>34</td>\n",
       "      <td>175</td>\n",
       "    </tr>\n",
       "    <tr>\n",
       "      <th>6</th>\n",
       "      <td>Caff̬ Mocha (Without Whipped Cream)</td>\n",
       "      <td>Soymilk</td>\n",
       "      <td>26</td>\n",
       "      <td>175</td>\n",
       "    </tr>\n",
       "    <tr>\n",
       "      <th>5</th>\n",
       "      <td>Caff̬ Mocha (Without Whipped Cream)</td>\n",
       "      <td>2% Milk</td>\n",
       "      <td>34</td>\n",
       "      <td>175</td>\n",
       "    </tr>\n",
       "    <tr>\n",
       "      <th>38</th>\n",
       "      <td>Iced Brewed Coffee (With Classic Syrup)</td>\n",
       "      <td>Plain</td>\n",
       "      <td>21</td>\n",
       "      <td>165</td>\n",
       "    </tr>\n",
       "    <tr>\n",
       "      <th>2</th>\n",
       "      <td>Caff̬ Latte</td>\n",
       "      <td>2% Milk</td>\n",
       "      <td>17</td>\n",
       "      <td>150</td>\n",
       "    </tr>\n",
       "    <tr>\n",
       "      <th>3</th>\n",
       "      <td>Caff̬ Latte</td>\n",
       "      <td>Soymilk</td>\n",
       "      <td>8</td>\n",
       "      <td>150</td>\n",
       "    </tr>\n",
       "    <tr>\n",
       "      <th>1</th>\n",
       "      <td>Caff̬ Latte</td>\n",
       "      <td>Nonfat Milk</td>\n",
       "      <td>18</td>\n",
       "      <td>150</td>\n",
       "    </tr>\n",
       "    <tr>\n",
       "      <th>8</th>\n",
       "      <td>Vanilla Latte (Or Other Flavoured Latte)</td>\n",
       "      <td>2% Milk</td>\n",
       "      <td>35</td>\n",
       "      <td>150</td>\n",
       "    </tr>\n",
       "  </tbody>\n",
       "</table>\n",
       "</div>"
      ],
      "text/plain": [
       "                                    Beverage Beverage_prep  Sugars (g)  \\\n",
       "0                              Brewed Coffee         Plain           0   \n",
       "10                           Caff̬ Americano         Plain           0   \n",
       "4        Caff̬ Mocha (Without Whipped Cream)   Nonfat Milk          34   \n",
       "6        Caff̬ Mocha (Without Whipped Cream)       Soymilk          26   \n",
       "5        Caff̬ Mocha (Without Whipped Cream)       2% Milk          34   \n",
       "38   Iced Brewed Coffee (With Classic Syrup)         Plain          21   \n",
       "2                                Caff̬ Latte       2% Milk          17   \n",
       "3                                Caff̬ Latte       Soymilk           8   \n",
       "1                                Caff̬ Latte   Nonfat Milk          18   \n",
       "8   Vanilla Latte (Or Other Flavoured Latte)       2% Milk          35   \n",
       "\n",
       "    Caffeine (mg)  \n",
       "0             330  \n",
       "10            225  \n",
       "4             175  \n",
       "6             175  \n",
       "5             175  \n",
       "38            165  \n",
       "2             150  \n",
       "3             150  \n",
       "1             150  \n",
       "8             150  "
      ]
     },
     "execution_count": 24,
     "metadata": {},
     "output_type": "execute_result"
    }
   ],
   "source": [
    "top10_Caf_Drink[['Beverage','Beverage_prep','Sugars (g)','Caffeine (mg)']]"
   ]
  },
  {
   "cell_type": "markdown",
   "id": "448c10c3",
   "metadata": {
    "id": "448c10c3"
   },
   "source": [
    "Now that we have the beverages with the prep, sugar and caffeine,we need to show this to our friend. Let's plot them as a need scatter plot. Caffeine on x, Sugars on y."
   ]
  },
  {
   "cell_type": "code",
   "execution_count": 25,
   "id": "bd1dc1e8",
   "metadata": {
    "id": "bd1dc1e8",
    "scrolled": true
   },
   "outputs": [
    {
     "data": {
      "image/png": "[encoded data removed]",
      "text/plain": [
       "<Figure size 1000x800 with 1 Axes>"
      ]
     },
     "metadata": {},
     "output_type": "display_data"
    }
   ],
   "source": [
    "x = top10_Caf_Drink[\"Caffeine (mg)\"].tolist()\n",
    "y = top10_Caf_Drink[\"Sugars (g)\"].tolist()\n",
    "\n",
    "beverages = top10_Caf_Drink['Beverage'].to_list()\n",
    "beverage_prep = top10_Caf_Drink['Beverage_prep'].to_list()\n",
    "labels = [ str(beverages[i]) + ' with' + str(beverage_prep[i]) for i in range(len(top10_Caf_Drink))]\n",
    "\n",
    "#insert your code here to plot the graph here\n",
    "plt.figure(figsize=(10, 8))\n",
    "plt.scatter(x, y)\n",
    "\n",
    "plt.xlabel(\"Caffeine content\")\n",
    "plt.ylabel(\"Sugar (g)\")\n",
    "plt.title(\"Sugar in the top 10 Most caffeinated Drinks.\")\n",
    "\n",
    "axes = plt.gca()\n",
    "axes.set_xlim([0,450])\n",
    "\n",
    "for i, txt in enumerate(labels):\n",
    "    plt.annotate(txt, (x[i], y[i]))\n",
    "\n",
    "plt.tight_layout()\n",
    "plt.show()"
   ]
  },
  {
   "cell_type": "markdown",
   "id": "64a9ccb2",
   "metadata": {
    "id": "64a9ccb2"
   },
   "source": [
    "Nice work!!\n",
    "\n",
    "\n",
    "# Conclusion\n",
    "In this assignment, we were able to download  a dataset, load it as a pandas dataframe, explore the dataset with basic statistical functions and visulaise many specifc examples to answer relevent queries from the topic.\n",
    "\n",
    "Congragulations!!"
   ]
  }
 ],
 "metadata": {
  "colab": {
   "provenance": []
  },
  "kernelspec": {
   "display_name": "Python 3 (ipykernel)",
   "language": "python",
   "name": "python3"
  },
  "language_info": {
   "codemirror_mode": {
    "name": "ipython",
    "version": 3
   },
   "file_extension": ".py",
   "mimetype": "text/x-python",
   "name": "python",
   "nbconvert_exporter": "python",
   "pygments_lexer": "ipython3",
   "version": "3.13.1"
  },
  "vscode": {
   "interpreter": {
    "hash": "31f2aee4e71d21fbe5cf8b01ff0e069b9275f58929596ceb00d14d90e3e16cd6"
   }
  }
 },
 "nbformat": 4,
 "nbformat_minor": 5
}
